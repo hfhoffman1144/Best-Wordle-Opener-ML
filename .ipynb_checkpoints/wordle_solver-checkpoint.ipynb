{
 "cells": [
  {
   "cell_type": "code",
   "execution_count": 1,
   "id": "82dc6b08",
   "metadata": {},
   "outputs": [],
   "source": [
    "import numpy as np\n",
    "import pandas as pd\n",
    "import matplotlib.pyplot as plt\n",
    "import seaborn as sns\n",
    "import string\n",
    "import re\n",
    "from typing import List\n",
    "from enum import Enum\n",
    "from collections import Counter\n",
    "from tqdm import tqdm\n",
    "from pyod.models.copod import COPOD\n",
    "from wordle_solver import WordleSimulation\n",
    "%matplotlib inline\n",
    "pd.set_option('display.max_columns', None)"
   ]
  },
  {
   "cell_type": "markdown",
   "id": "19122a0e",
   "metadata": {},
   "source": [
    "#### Util functions"
   ]
  },
  {
   "cell_type": "code",
   "execution_count": 2,
   "id": "c9d27d45",
   "metadata": {},
   "outputs": [],
   "source": [
    "def read_word_list(file_name:str):\n",
    "    \n",
    "    result = []\n",
    "    with open(file_name) as fp:\n",
    "        result.extend([word.strip() for word in fp.readlines()])\n",
    "        \n",
    "    return result"
   ]
  },
  {
   "cell_type": "code",
   "execution_count": 3,
   "id": "82efacd4",
   "metadata": {},
   "outputs": [],
   "source": [
    "# Read in word lists\n",
    "possible_words_list = read_word_list(\"possible_answers.txt\")\n",
    "accepted_words_list = read_word_list(\"accepted_words.txt\")"
   ]
  },
  {
   "cell_type": "markdown",
   "id": "78966eef",
   "metadata": {},
   "source": [
    "#### Run simulation"
   ]
  },
  {
   "cell_type": "code",
   "execution_count": 8,
   "id": "8785eec2",
   "metadata": {},
   "outputs": [
    {
     "name": "stderr",
     "output_type": "stream",
     "text": [
      "100%|███████████████████████████████████████| 2315/2315 [21:39<00:00,  1.78it/s]\n"
     ]
    },
    {
     "data": {
      "text/html": [
       "<div>\n",
       "<style scoped>\n",
       "    .dataframe tbody tr th:only-of-type {\n",
       "        vertical-align: middle;\n",
       "    }\n",
       "\n",
       "    .dataframe tbody tr th {\n",
       "        vertical-align: top;\n",
       "    }\n",
       "\n",
       "    .dataframe thead th {\n",
       "        text-align: right;\n",
       "    }\n",
       "</style>\n",
       "<table border=\"1\" class=\"dataframe\">\n",
       "  <thead>\n",
       "    <tr style=\"text-align: right;\">\n",
       "      <th></th>\n",
       "      <th>Guesses</th>\n",
       "    </tr>\n",
       "  </thead>\n",
       "  <tbody>\n",
       "    <tr>\n",
       "      <th>aback</th>\n",
       "      <td>3</td>\n",
       "    </tr>\n",
       "    <tr>\n",
       "      <th>abase</th>\n",
       "      <td>4</td>\n",
       "    </tr>\n",
       "    <tr>\n",
       "      <th>abate</th>\n",
       "      <td>4</td>\n",
       "    </tr>\n",
       "    <tr>\n",
       "      <th>abbey</th>\n",
       "      <td>4</td>\n",
       "    </tr>\n",
       "    <tr>\n",
       "      <th>abbot</th>\n",
       "      <td>3</td>\n",
       "    </tr>\n",
       "    <tr>\n",
       "      <th>...</th>\n",
       "      <td>...</td>\n",
       "    </tr>\n",
       "    <tr>\n",
       "      <th>young</th>\n",
       "      <td>3</td>\n",
       "    </tr>\n",
       "    <tr>\n",
       "      <th>youth</th>\n",
       "      <td>5</td>\n",
       "    </tr>\n",
       "    <tr>\n",
       "      <th>zebra</th>\n",
       "      <td>4</td>\n",
       "    </tr>\n",
       "    <tr>\n",
       "      <th>zesty</th>\n",
       "      <td>6</td>\n",
       "    </tr>\n",
       "    <tr>\n",
       "      <th>zonal</th>\n",
       "      <td>5</td>\n",
       "    </tr>\n",
       "  </tbody>\n",
       "</table>\n",
       "<p>2315 rows × 1 columns</p>\n",
       "</div>"
      ],
      "text/plain": [
       "       Guesses\n",
       "aback        3\n",
       "abase        4\n",
       "abate        4\n",
       "abbey        4\n",
       "abbot        3\n",
       "...        ...\n",
       "young        3\n",
       "youth        5\n",
       "zebra        4\n",
       "zesty        6\n",
       "zonal        5\n",
       "\n",
       "[2315 rows x 1 columns]"
      ]
     },
     "execution_count": 8,
     "metadata": {},
     "output_type": "execute_result"
    }
   ],
   "source": [
    "simulation_data = pd.DataFrame()\n",
    "\n",
    "for word in tqdm(possible_words_list):\n",
    "    \n",
    "    num_guesses = WordleSimulation(word, possible_words_list, first_guess='saint').run_simulation()\n",
    "       \n",
    "    tmp_sim_data = pd.DataFrame({\"Guesses\":num_guesses}, index=[word])\n",
    "    simulation_data = pd.concat([simulation_data, tmp_sim_data])\n",
    "    \n",
    "simulation_data"
   ]
  },
  {
   "cell_type": "code",
   "execution_count": 9,
   "id": "86fee84c",
   "metadata": {},
   "outputs": [
    {
     "data": {
      "text/plain": [
       "count    2315.000000\n",
       "mean        4.120518\n",
       "std         1.408607\n",
       "min         1.000000\n",
       "25%         3.000000\n",
       "50%         4.000000\n",
       "75%         5.000000\n",
       "max         9.000000\n",
       "Name: Guesses, dtype: float64"
      ]
     },
     "execution_count": 9,
     "metadata": {},
     "output_type": "execute_result"
    }
   ],
   "source": [
    "simulation_data['Guesses'].describe()"
   ]
  },
  {
   "cell_type": "code",
   "execution_count": 26,
   "id": "acc782c8",
   "metadata": {},
   "outputs": [
    {
     "data": {
      "text/plain": [
       "<AxesSubplot:xlabel='Guesses', ylabel='Probability'>"
      ]
     },
     "execution_count": 26,
     "metadata": {},
     "output_type": "execute_result"
    },
    {
     "data": {
      "image/png": "[encoded data removed]",
      "text/plain": [
       "<Figure size 720x432 with 1 Axes>"
      ]
     },
     "metadata": {
      "needs_background": "light"
     },
     "output_type": "display_data"
    }
   ],
   "source": [
    "fig,ax = plt.subplots(figsize=(10,6))\n",
    "sns.histplot(simulation_data['Guesses'],stat='probability')"
   ]
  },
  {
   "cell_type": "code",
   "execution_count": 27,
   "id": "b88b3439",
   "metadata": {},
   "outputs": [],
   "source": [
    "def empirical_cdf(x:float, data:np.ndarray):\n",
    "    \n",
    "    return np.mean(data <= x)\n",
    "\n",
    "inputs = list(range(1,9))\n",
    "cdf_vals = [empirical_cdf(x , simulation_data['Guesses'].values) for x in inputs]"
   ]
  },
  {
   "cell_type": "code",
   "execution_count": 30,
   "id": "663bacec",
   "metadata": {},
   "outputs": [
    {
     "data": {
      "text/plain": [
       "Text(0, 0.5, 'CDF')"
      ]
     },
     "execution_count": 30,
     "metadata": {},
     "output_type": "execute_result"
    },
    {
     "data": {
      "image/png": "[encoded data removed]",
      "text/plain": [
       "<Figure size 720x432 with 1 Axes>"
      ]
     },
     "metadata": {
      "needs_background": "light"
     },
     "output_type": "display_data"
    }
   ],
   "source": [
    "fig,ax = plt.subplots(figsize=(10,6))\n",
    "ax.scatter(inputs, cdf_vals)\n",
    "ax.plot(inputs, cdf_vals)\n",
    "ax.set_xlabel('Guesses')\n",
    "ax.set_ylabel('CDF')"
   ]
  },
  {
   "cell_type": "code",
   "execution_count": null,
   "id": "d9c34235",
   "metadata": {},
   "outputs": [],
   "source": []
  }
 ],
 "metadata": {
  "kernelspec": {
   "display_name": "baseprojects",
   "language": "python",
   "name": "baseprojects"
  },
  "language_info": {
   "codemirror_mode": {
    "name": "ipython",
    "version": 3
   },
   "file_extension": ".py",
   "mimetype": "text/x-python",
   "name": "python",
   "nbconvert_exporter": "python",
   "pygments_lexer": "ipython3",
   "version": "3.9.9"
  }
 },
 "nbformat": 4,
 "nbformat_minor": 5
}
